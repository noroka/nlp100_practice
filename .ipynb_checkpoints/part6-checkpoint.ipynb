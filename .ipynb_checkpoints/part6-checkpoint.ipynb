{
 "cells": [
  {
   "cell_type": "markdown",
   "metadata": {},
   "source": [
    "# 第６章：機械学習　"
   ]
  },
  {
   "cell_type": "markdown",
   "metadata": {},
   "source": [
    "https://nlp100.github.io/ja/ch06.html"
   ]
  },
  {
   "cell_type": "markdown",
   "metadata": {},
   "source": [
    "本章では，Fabio Gasparetti氏が公開しているNews Aggregator Data Setを用い，ニュース記事の見出しを「ビジネス」「科学技術」「エンターテイメント」「健康」のカテゴリに分類するタスク（カテゴリ分類）に取り組む．"
   ]
  },
  {
   "cell_type": "markdown",
   "metadata": {},
   "source": [
    "## 50. データの入手・整形"
   ]
  },
  {
   "cell_type": "markdown",
   "metadata": {},
   "source": [
    "News Aggregator Data Setをダウンロードし、以下の要領で学習データ（train.txt），検証データ（valid.txt），評価データ（test.txt）を作成せよ．"
   ]
  },
  {
   "cell_type": "markdown",
   "metadata": {},
   "source": [
    "### 1. ダウンロードしたzipファイルを解凍し，readme.txtの説明を読む．"
   ]
  },
  {
   "cell_type": "code",
   "execution_count": 62,
   "metadata": {},
   "outputs": [],
   "source": [
    "# ファイルのダウンロード\n",
    "import os\n",
    "import pprint\n",
    "import time\n",
    "import urllib.error\n",
    "import urllib.request\n",
    "\n",
    "def download_file(url, dst_path):\n",
    "    try:\n",
    "        with urllib.request.urlopen(url) as web_file, open(dst_path, 'wb') as local_file:\n",
    "            local_file.write(web_file.read())\n",
    "    except urllib.error.URLError as e:\n",
    "        print(e)\n",
    "\n",
    "def download_file_to_dir(url, dst_dir):\n",
    "    download_file(url, os.path.join(dst_dir, os.path.basename(url)))\n",
    "\n",
    "dst_dir = 'org/'\n",
    "url = \"https://archive.ics.uci.edu/ml/machine-learning-databases/00359/NewsAggregatorDataset.zip\"\n",
    "\n",
    "if not os.path.exists(dst_dir):\n",
    "    os.mkdir(dst_dir)\n",
    "\n",
    "download_file_to_dir(url, dst_dir)"
   ]
  },
  {
   "cell_type": "code",
   "execution_count": 63,
   "metadata": {},
   "outputs": [],
   "source": [
    "# ファイルの解凍\n",
    "import zipfile\n",
    "import re\n",
    "\n",
    "tar_file = dst_dir + 'NewsAggregatorDataset.zip'\n",
    "\n",
    "def extractfile(tar_file, dst_path = None):\n",
    "    with zipfile.ZipFile(tar_file) as existing_zip:\n",
    "        existing_zip.extractall(dst_path)\n",
    "\n",
    "extractfile(tar_file, dst_dir)"
   ]
  },
  {
   "cell_type": "markdown",
   "metadata": {},
   "source": [
    "### 2.情報源（publisher）が”Reuters”, “Huffington Post”, “Businessweek”, “Contactmusic.com”, “Daily Mail”の事例（記事）のみを抽出する．"
   ]
  },
  {
   "cell_type": "code",
   "execution_count": 64,
   "metadata": {},
   "outputs": [],
   "source": [
    "# データ読み込み\n",
    "filename = dst_dir + 'newsCorpora.csv'\n",
    "with open(filename) as f:\n",
    "    lines = f.readlines()"
   ]
  },
  {
   "cell_type": "code",
   "execution_count": 65,
   "metadata": {},
   "outputs": [
    {
     "name": "stdout",
     "output_type": "stream",
     "text": [
      "Number of news:  13356\n"
     ]
    }
   ],
   "source": [
    "# データ抽出（PUBLISHERでフィルタ）\n",
    "import re\n",
    "\n",
    "ID = []\n",
    "TITLE = []\n",
    "URL = []\n",
    "PUBLISHER = []\n",
    "CATEGORY = []\n",
    "STORY = []\n",
    "HOSTNAME = []\n",
    "TIMESTAMP = []\n",
    "\n",
    "publishers = [\"Reuters\", \"Huffington Post\", \"Businessweek\", \"Contactmusic.com\", \"Daily Mail\"]\n",
    "i = 0\n",
    "for l in lines:\n",
    "    p = l.split('\\t')\n",
    "    if p[3] in publishers:\n",
    "        i += 1\n",
    "        ID.append(p[0])\n",
    "        TITLE.append(p[1])\n",
    "        URL.append(p[2])\n",
    "        PUBLISHER.append(p[3])\n",
    "        CATEGORY.append(p[4])\n",
    "        STORY.append(p[5])\n",
    "        HOSTNAME.append(p[6])\n",
    "        TIMESTAMP.append(re.sub(\"\\n\",\"\",p[7]))\n",
    "\n",
    "print(\"Number of news: \", i)\n",
    "# print(len(ID), len(TITLE), len(URL), len(PUBLISHER), len(CATEGORY), len(STORY), len(HOSTNAME), len(TIMESTAMP))"
   ]
  },
  {
   "cell_type": "code",
   "execution_count": 66,
   "metadata": {},
   "outputs": [
    {
     "name": "stdout",
     "output_type": "stream",
     "text": [
      "(13356, 8)\n"
     ]
    },
    {
     "data": {
      "text/html": [
       "<div>\n",
       "<style scoped>\n",
       "    .dataframe tbody tr th:only-of-type {\n",
       "        vertical-align: middle;\n",
       "    }\n",
       "\n",
       "    .dataframe tbody tr th {\n",
       "        vertical-align: top;\n",
       "    }\n",
       "\n",
       "    .dataframe thead th {\n",
       "        text-align: right;\n",
       "    }\n",
       "</style>\n",
       "<table border=\"1\" class=\"dataframe\">\n",
       "  <thead>\n",
       "    <tr style=\"text-align: right;\">\n",
       "      <th></th>\n",
       "      <th>ID</th>\n",
       "      <th>TITLE</th>\n",
       "      <th>URL</th>\n",
       "      <th>PUBLISHER</th>\n",
       "      <th>CATEGORY</th>\n",
       "      <th>STORY</th>\n",
       "      <th>HOSTNAME</th>\n",
       "      <th>TIMESTAMP</th>\n",
       "    </tr>\n",
       "  </thead>\n",
       "  <tbody>\n",
       "    <tr>\n",
       "      <th>0</th>\n",
       "      <td>13</td>\n",
       "      <td>Europe reaches crunch point on banking union</td>\n",
       "      <td>http://in.reuters.com/article/2014/03/10/eu-ba...</td>\n",
       "      <td>Reuters</td>\n",
       "      <td>b</td>\n",
       "      <td>dPhGU51DcrolUIMxbRm0InaHGA2XM</td>\n",
       "      <td>in.reuters.com</td>\n",
       "      <td>1394470501755</td>\n",
       "    </tr>\n",
       "    <tr>\n",
       "      <th>1</th>\n",
       "      <td>14</td>\n",
       "      <td>ECB FOCUS-Stronger euro drowns out ECB's messa...</td>\n",
       "      <td>http://in.reuters.com/article/2014/03/10/ecb-p...</td>\n",
       "      <td>Reuters</td>\n",
       "      <td>b</td>\n",
       "      <td>dPhGU51DcrolUIMxbRm0InaHGA2XM</td>\n",
       "      <td>in.reuters.com</td>\n",
       "      <td>1394470501948</td>\n",
       "    </tr>\n",
       "    <tr>\n",
       "      <th>2</th>\n",
       "      <td>20</td>\n",
       "      <td>Euro Anxieties Wane as Bunds Top Treasuries, S...</td>\n",
       "      <td>http://www.businessweek.com/news/2014-03-10/ge...</td>\n",
       "      <td>Businessweek</td>\n",
       "      <td>b</td>\n",
       "      <td>dPhGU51DcrolUIMxbRm0InaHGA2XM</td>\n",
       "      <td>www.businessweek.com</td>\n",
       "      <td>1394470503148</td>\n",
       "    </tr>\n",
       "    <tr>\n",
       "      <th>3</th>\n",
       "      <td>21</td>\n",
       "      <td>Noyer Says Strong Euro Creates Unwarranted Eco...</td>\n",
       "      <td>http://www.businessweek.com/news/2014-03-10/no...</td>\n",
       "      <td>Businessweek</td>\n",
       "      <td>b</td>\n",
       "      <td>dPhGU51DcrolUIMxbRm0InaHGA2XM</td>\n",
       "      <td>www.businessweek.com</td>\n",
       "      <td>1394470503366</td>\n",
       "    </tr>\n",
       "    <tr>\n",
       "      <th>4</th>\n",
       "      <td>30</td>\n",
       "      <td>REFILE-Bad loan triggers key feature in ECB ba...</td>\n",
       "      <td>http://in.reuters.com/article/2014/03/10/euroz...</td>\n",
       "      <td>Reuters</td>\n",
       "      <td>b</td>\n",
       "      <td>dPhGU51DcrolUIMxbRm0InaHGA2XM</td>\n",
       "      <td>in.reuters.com</td>\n",
       "      <td>1394470505070</td>\n",
       "    </tr>\n",
       "  </tbody>\n",
       "</table>\n",
       "</div>"
      ],
      "text/plain": [
       "   ID                                              TITLE  \\\n",
       "0  13       Europe reaches crunch point on banking union   \n",
       "1  14  ECB FOCUS-Stronger euro drowns out ECB's messa...   \n",
       "2  20  Euro Anxieties Wane as Bunds Top Treasuries, S...   \n",
       "3  21  Noyer Says Strong Euro Creates Unwarranted Eco...   \n",
       "4  30  REFILE-Bad loan triggers key feature in ECB ba...   \n",
       "\n",
       "                                                 URL     PUBLISHER CATEGORY  \\\n",
       "0  http://in.reuters.com/article/2014/03/10/eu-ba...       Reuters        b   \n",
       "1  http://in.reuters.com/article/2014/03/10/ecb-p...       Reuters        b   \n",
       "2  http://www.businessweek.com/news/2014-03-10/ge...  Businessweek        b   \n",
       "3  http://www.businessweek.com/news/2014-03-10/no...  Businessweek        b   \n",
       "4  http://in.reuters.com/article/2014/03/10/euroz...       Reuters        b   \n",
       "\n",
       "                           STORY              HOSTNAME      TIMESTAMP  \n",
       "0  dPhGU51DcrolUIMxbRm0InaHGA2XM        in.reuters.com  1394470501755  \n",
       "1  dPhGU51DcrolUIMxbRm0InaHGA2XM        in.reuters.com  1394470501948  \n",
       "2  dPhGU51DcrolUIMxbRm0InaHGA2XM  www.businessweek.com  1394470503148  \n",
       "3  dPhGU51DcrolUIMxbRm0InaHGA2XM  www.businessweek.com  1394470503366  \n",
       "4  dPhGU51DcrolUIMxbRm0InaHGA2XM        in.reuters.com  1394470505070  "
      ]
     },
     "execution_count": 66,
     "metadata": {},
     "output_type": "execute_result"
    }
   ],
   "source": [
    "# データセットの作成\n",
    "import pandas as pd\n",
    "\n",
    "dataset = pd.DataFrame({\"ID\":ID, \"TITLE\":TITLE, \"URL\":URL, \"PUBLISHER\":PUBLISHER, \"CATEGORY\":CATEGORY, \"STORY\":STORY, \"HOSTNAME\":HOSTNAME, \"TIMESTAMP\":TIMESTAMP})\n",
    "print(dataset.shape)\n",
    "dataset.head()"
   ]
  },
  {
   "cell_type": "markdown",
   "metadata": {},
   "source": [
    "### 3.抽出された事例をランダムに並び替える．"
   ]
  },
  {
   "cell_type": "code",
   "execution_count": 67,
   "metadata": {},
   "outputs": [
    {
     "data": {
      "text/html": [
       "<div>\n",
       "<style scoped>\n",
       "    .dataframe tbody tr th:only-of-type {\n",
       "        vertical-align: middle;\n",
       "    }\n",
       "\n",
       "    .dataframe tbody tr th {\n",
       "        vertical-align: top;\n",
       "    }\n",
       "\n",
       "    .dataframe thead th {\n",
       "        text-align: right;\n",
       "    }\n",
       "</style>\n",
       "<table border=\"1\" class=\"dataframe\">\n",
       "  <thead>\n",
       "    <tr style=\"text-align: right;\">\n",
       "      <th></th>\n",
       "      <th>ID</th>\n",
       "      <th>TITLE</th>\n",
       "      <th>URL</th>\n",
       "      <th>PUBLISHER</th>\n",
       "      <th>CATEGORY</th>\n",
       "      <th>STORY</th>\n",
       "      <th>HOSTNAME</th>\n",
       "      <th>TIMESTAMP</th>\n",
       "    </tr>\n",
       "  </thead>\n",
       "  <tbody>\n",
       "    <tr>\n",
       "      <th>10496</th>\n",
       "      <td>334747</td>\n",
       "      <td>Bulgaria's third biggest lender says no restri...</td>\n",
       "      <td>http://in.reuters.com/article/2014/06/27/bulga...</td>\n",
       "      <td>Reuters</td>\n",
       "      <td>b</td>\n",
       "      <td>dJLBdQIaAqzVUxMzFcv71jd5V1euM</td>\n",
       "      <td>in.reuters.com</td>\n",
       "      <td>1404149507072</td>\n",
       "    </tr>\n",
       "    <tr>\n",
       "      <th>11224</th>\n",
       "      <td>357854</td>\n",
       "      <td>Party tents go up on the eve of Jessica Simpso...</td>\n",
       "      <td>http://www.dailymail.co.uk/video/tvshowbiz/vid...</td>\n",
       "      <td>Daily Mail</td>\n",
       "      <td>e</td>\n",
       "      <td>dwGxjawm4kYU7uMpkgRpycMQo_S7M</td>\n",
       "      <td>www.dailymail.co.uk</td>\n",
       "      <td>1404527471166</td>\n",
       "    </tr>\n",
       "    <tr>\n",
       "      <th>1274</th>\n",
       "      <td>38298</td>\n",
       "      <td>UK shares slide on China growth concerns, geop...</td>\n",
       "      <td>http://www.reuters.com/article/2014/03/24/mark...</td>\n",
       "      <td>Reuters</td>\n",
       "      <td>b</td>\n",
       "      <td>dy4Cp8QXtnAf7GM6kbWPIW1gpw70M</td>\n",
       "      <td>www.reuters.com</td>\n",
       "      <td>1395754740123</td>\n",
       "    </tr>\n",
       "    <tr>\n",
       "      <th>8425</th>\n",
       "      <td>274240</td>\n",
       "      <td>Scott Derrickson To Direct \"Dr. Strange\" - Are...</td>\n",
       "      <td>http://www.contactmusic.com/article/scott-derr...</td>\n",
       "      <td>Contactmusic.com</td>\n",
       "      <td>e</td>\n",
       "      <td>dN7NEV1sHHBk0eMRfbmDKZUlDaRGM</td>\n",
       "      <td>www.contactmusic.com</td>\n",
       "      <td>1401896447281</td>\n",
       "    </tr>\n",
       "    <tr>\n",
       "      <th>6726</th>\n",
       "      <td>215373</td>\n",
       "      <td>Obama dedicates National September 11 Memorial...</td>\n",
       "      <td>http://www.dailymail.co.uk/news/article-262936...</td>\n",
       "      <td>Daily Mail</td>\n",
       "      <td>e</td>\n",
       "      <td>dwh1spramOeghdMJWFxXs-sGvWB5M</td>\n",
       "      <td>www.dailymail.co.uk</td>\n",
       "      <td>1400395587302</td>\n",
       "    </tr>\n",
       "  </tbody>\n",
       "</table>\n",
       "</div>"
      ],
      "text/plain": [
       "           ID                                              TITLE  \\\n",
       "10496  334747  Bulgaria's third biggest lender says no restri...   \n",
       "11224  357854  Party tents go up on the eve of Jessica Simpso...   \n",
       "1274    38298  UK shares slide on China growth concerns, geop...   \n",
       "8425   274240  Scott Derrickson To Direct \"Dr. Strange\" - Are...   \n",
       "6726   215373  Obama dedicates National September 11 Memorial...   \n",
       "\n",
       "                                                     URL         PUBLISHER  \\\n",
       "10496  http://in.reuters.com/article/2014/06/27/bulga...           Reuters   \n",
       "11224  http://www.dailymail.co.uk/video/tvshowbiz/vid...        Daily Mail   \n",
       "1274   http://www.reuters.com/article/2014/03/24/mark...           Reuters   \n",
       "8425   http://www.contactmusic.com/article/scott-derr...  Contactmusic.com   \n",
       "6726   http://www.dailymail.co.uk/news/article-262936...        Daily Mail   \n",
       "\n",
       "      CATEGORY                          STORY              HOSTNAME  \\\n",
       "10496        b  dJLBdQIaAqzVUxMzFcv71jd5V1euM        in.reuters.com   \n",
       "11224        e  dwGxjawm4kYU7uMpkgRpycMQo_S7M   www.dailymail.co.uk   \n",
       "1274         b  dy4Cp8QXtnAf7GM6kbWPIW1gpw70M       www.reuters.com   \n",
       "8425         e  dN7NEV1sHHBk0eMRfbmDKZUlDaRGM  www.contactmusic.com   \n",
       "6726         e  dwh1spramOeghdMJWFxXs-sGvWB5M   www.dailymail.co.uk   \n",
       "\n",
       "           TIMESTAMP  \n",
       "10496  1404149507072  \n",
       "11224  1404527471166  \n",
       "1274   1395754740123  \n",
       "8425   1401896447281  \n",
       "6726   1400395587302  "
      ]
     },
     "execution_count": 67,
     "metadata": {},
     "output_type": "execute_result"
    }
   ],
   "source": [
    "# ランダムに並べ替え\n",
    "df_s = dataset.sample(frac=1, random_state=0)\n",
    "df_s.head()"
   ]
  },
  {
   "cell_type": "markdown",
   "metadata": {},
   "source": [
    "### 4.抽出された事例の80%を学習データ，残りの10%ずつを検証データと評価データに分割し，それぞれtrain.txt，valid.txt，test.txtというファイル名で保存する．ファイルには，１行に１事例を書き出すこととし，カテゴリ名と記事見出しのタブ区切り形式とせよ（このファイルは後に問題70で再利用する）．"
   ]
  },
  {
   "cell_type": "code",
   "execution_count": 68,
   "metadata": {},
   "outputs": [
    {
     "name": "stdout",
     "output_type": "stream",
     "text": [
      "(10684, 8) (1336, 8) (1336, 8)\n"
     ]
    }
   ],
   "source": [
    "# 学習・検証・テストデータに分割\n",
    "from sklearn.model_selection import train_test_split\n",
    "\n",
    "train, test = train_test_split(df_s, shuffle = False, train_size = 0.8)\n",
    "valid, test = train_test_split(test, shuffle = False, test_size =  0.5)\n",
    "print(train.shape, valid.shape, test.shape)"
   ]
  },
  {
   "cell_type": "code",
   "execution_count": 69,
   "metadata": {},
   "outputs": [],
   "source": [
    "# テキストファイルとして出力\n",
    "import os\n",
    "\n",
    "tar_dir = 'data/'\n",
    "if not os.path.exists(tar_dir):\n",
    "    os.mkdir(tar_dir)\n",
    "\n",
    "fname_train = tar_dir + 'train.txt'\n",
    "fname_valid = tar_dir + 'valid.txt'\n",
    "fname_test = tar_dir + 'test.txt'\n",
    "\n",
    "train.to_csv(fname_train,sep='\\t',index=False)\n",
    "valid.to_csv(fname_valid,sep='\\t',index=False)\n",
    "test.to_csv(fname_test,sep='\\t',index=False)"
   ]
  },
  {
   "cell_type": "markdown",
   "metadata": {},
   "source": [
    "以上."
   ]
  },
  {
   "cell_type": "markdown",
   "metadata": {},
   "source": [
    "## 51.特徴量抽出"
   ]
  },
  {
   "cell_type": "markdown",
   "metadata": {},
   "source": [
    "学習データ，検証データ，評価データから特徴量を抽出し，それぞれtrain.feature.txt，valid.feature.txt，test.feature.txtというファイル名で保存せよ． なお，カテゴリ分類に有用そうな特徴量は各自で自由に設計せよ．記事の見出しを単語列に変換したものが最低限のベースラインとなるであろう．"
   ]
  },
  {
   "cell_type": "code",
   "execution_count": 108,
   "metadata": {},
   "outputs": [
    {
     "name": "stdout",
     "output_type": "stream",
     "text": [
      "学習データ\n",
      "['bulgarias third biggest lender says no restrictions on operations'\n",
      " 'party tents go up on the eve of jessica simpsons wedding'\n",
      " 'uk shares slide on china growth concerns geopolitical tension'\n",
      " 'scott derrickson to direct dr strange are we in for a darker marvel flick'\n",
      " 'obama dedicates national september memorial museum as a sacred place']\n",
      "検証データ\n",
      "['khloé kardashian khloé kardashian refusing to speak to lamar odom'\n",
      " 'swiss antitrust regulator probes eight banks over alleged fxrigging'\n",
      " 'is jamie foxx about to play mike tyson'\n",
      " 'reviews melissa mccarthy goes all out in tammy but is it enough for the'\n",
      " 'update vietnam china trade barbs after vietnamese fishing boat sinks']\n",
      "評価データ\n",
      "['us stocks advance as smallcap internet shares extend rally'\n",
      " 'investors couldnt care less about data breaches'\n",
      " 'elephants really are intelligent creatures can guess age and even ethnicity by'\n",
      " 'national australia bank sthalf profit up pct'\n",
      " 'green bonds could cut indian cleanenergy costs report says']\n"
     ]
    }
   ],
   "source": [
    "# TITLEの前処理\n",
    "import re\n",
    "import numpy as np\n",
    "\n",
    "def preprocessing_text(TITLE:np.ndarray):\n",
    "    code_regex = re.compile('[!\"#$%&\\'\\\\\\\\()*+,-./:;<=>?@[\\\\]^_`{|}~「」〔〕“”〈〉『』【】＆＊・（）＄＃＠。、？！｀＋￥％]')\n",
    "    TITLE_cleansed = np.empty_like(TITLE)\n",
    "    for i,t in enumerate(TITLE):\n",
    "        t_c = code_regex.sub('', t)\n",
    "        t_c = re.sub('[0-9]','',t_c)\n",
    "        t_c = re.sub(' {2,}',' ',t_c)\n",
    "        t_c = re.sub(' $','',t_c)\n",
    "        TITLE_cleansed[i] = t_c.lower()\n",
    "    return TITLE_cleansed\n",
    "\n",
    "train_title = train['TITLE'].values\n",
    "train_title_cleansed = preprocessing_text(train_title)\n",
    "print(\"学習データ\")\n",
    "print(train_title_cleansed[0:5])\n",
    "\n",
    "valid_title = valid['TITLE'].values\n",
    "valid_title_cleansed = preprocessing_text(valid_title)\n",
    "print(\"検証データ\")\n",
    "print(valid_title_cleansed[0:5])\n",
    "\n",
    "test_title = test['TITLE'].values\n",
    "test_title_cleansed = preprocessing_text(test_title)\n",
    "print(\"評価データ\")\n",
    "print(test_title_cleansed[0:5])"
   ]
  },
  {
   "cell_type": "code",
   "execution_count": 189,
   "metadata": {},
   "outputs": [
    {
     "name": "stdout",
     "output_type": "stream",
     "text": [
      "before filtering: 13851\n",
      "After filetering: 3608\n",
      "学習データ\n",
      "(10684, 3608)\n",
      "検証データ\n",
      "(1336, 3608)\n",
      "評価データ\n",
      "(1336, 3608)\n"
     ]
    }
   ],
   "source": [
    "# 記事の見出しの単語列をBoW表現にする。\n",
    "# valid, testにおいて、trainにない単語は未知語とする。\n",
    "from sklearn.preprocessing import OneHotEncoder\n",
    "from gensim.corpora import Dictionary\n",
    "import collections\n",
    "\n",
    "def convert_title(TITLE:np.ndarray):\n",
    "    texts = []\n",
    "    for t in TITLE:\n",
    "        texts.append(t.split())\n",
    "    return texts\n",
    "\n",
    "\n",
    "def convert_densebow(dictionary:gensim.corpora.dictionary.Dictionary, bow_sparse:list):\n",
    "    bow_dense = np.zeros([len(bow_sparse),len(dictionary)]) \n",
    "    for i,tokens in enumerate(bow_sparse):\n",
    "        for token in tokens:\n",
    "            bow_dense[i,token[0]] = token[1]\n",
    "    return bow_dense\n",
    "\n",
    "train_texts = convert_title(train_title_cleansed)\n",
    "dictionary = Dictionary(train_texts)\n",
    "print(\"before filtering:\", len(dictionary))\n",
    "\n",
    "# 語彙の絞り込み\n",
    "# https://radimrehurek.com/gensim/corpora/dictionary.html\n",
    "no_below = 5 # no_below以下の文書でしか出現しない単語を除外\n",
    "no_above = 0.3 # すべての文書のうち、no_above*100(%)で出現する単語を除外\n",
    "dictionary.filter_extremes(no_below=no_below, no_above=no_above, keep_n=None)\n",
    "print(\"After filetering:\", len(dictionary))\n",
    "\n",
    "train_bow = [dictionary.doc2bow(text, allow_update=False) for text in train_texts] # BoW. 新語は無視する\n",
    "train_dbow = convert_densebow(dictionary, train_bow)\n",
    "print('学習データ')\n",
    "print(train_dbow.shape)\n",
    "\n",
    "valid_texts = convert_title(valid_title_cleansed)\n",
    "valid_bow = [dictionary.doc2bow(text, allow_update=False) for text in valid_texts]\n",
    "valid_dbow = convert_densebow(dictionary, valid_bow)\n",
    "print('検証データ')\n",
    "print(valid_dbow.shape)\n",
    "\n",
    "test_texts = convert_title(test_title_cleansed)\n",
    "test_bow = [dictionary.doc2bow(text, allow_update=False) for text in test_texts]\n",
    "test_dbow = convert_densebow(dictionary, test_bow)\n",
    "print('評価データ')\n",
    "print(test_dbow.shape)"
   ]
  },
  {
   "cell_type": "code",
   "execution_count": 190,
   "metadata": {},
   "outputs": [],
   "source": [
    "# 保存\n",
    "tar_dir = 'feat/'\n",
    "if not os.path.exists(tar_dir):\n",
    "    os.mkdir(tar_dir)\n",
    "\n",
    "fname_train = tar_dir + 'train_bow_feature.txt'\n",
    "fname_valid = tar_dir + 'valid_bow_feature.txt'\n",
    "fname_test = tar_dir + 'test_bow_feature.txt'\n",
    "fname_dict = tar_dir + 'dict.txt'\n",
    "\n",
    "# 辞書の保存\n",
    "dictionary.save_as_text(fname_dict)\n",
    "\n",
    "np.savetxt(fname_train, train_dbow, delimiter='\\t', fmt=\"%d\")\n",
    "np.savetxt(fname_valid, valid_dbow, delimiter='\\t', fmt=\"%d\")\n",
    "np.savetxt(fname_test, test_dbow, delimiter='\\t', fmt=\"%d\")"
   ]
  },
  {
   "cell_type": "markdown",
   "metadata": {},
   "source": [
    "#### 特徴量の比較（TFIDF, LSI, LDA) "
   ]
  },
  {
   "cell_type": "markdown",
   "metadata": {},
   "source": [
    "BoWとの比較用に、TFIDF, LSI, LDA特徴量も用意しておく"
   ]
  },
  {
   "cell_type": "code",
   "execution_count": 205,
   "metadata": {},
   "outputs": [
    {
     "data": {
      "text/plain": [
       "'0.067*\"google\" + 0.054*\"bank\" + 0.042*\"risk\" + 0.037*\"merger\" + 0.031*\"should\" + 0.029*\"trailer\" + 0.029*\"mortgage\" + 0.026*\"canada\" + 0.022*\"of\" + 0.021*\"nasdaq\"'"
      ]
     },
     "execution_count": 205,
     "metadata": {},
     "output_type": "execute_result"
    }
   ],
   "source": [
    "# モデルの学習\n",
    "from gensim.models import TfidfModel, LsiModel, LdaModel\n",
    "from gensim.models.ldamodel import LdaModel\n",
    "\n",
    "# Tfidf\n",
    "model_tfidf = TfidfModel(train_bow)\n",
    "\n",
    "# LSI\n",
    "dim_lsi = 100\n",
    "model_lsi = LsiModel(train_tfidf, id2word=dictionary, num_topics=dim_lsi)\n",
    "# model_lsi.print_topic(10) 次元圧縮後の各成分の確認\n",
    "\n",
    "# LDA\n",
    "# https://qiita.com/Spooky_Maskman/items/0d03ea499b88abf56819\n",
    "dim_lda = 50\n",
    "model_lda = LdaModel(train_tfidf, id2word=dictionary, num_topics=dim_lda, random_state=0)\n",
    "model_lda.print_topic(10)"
   ]
  },
  {
   "cell_type": "code",
   "execution_count": 206,
   "metadata": {},
   "outputs": [],
   "source": [
    "# データセットの作成\n",
    "\n",
    "# Tfidf\n",
    "train_tfidf = [model_tfidf[bs] for bs in train_bow]\n",
    "valid_tfidf = [model_tfidf[bs] for bs in valid_bow]\n",
    "test_tfidf = [model_tfidf[bs] for bs in test_bow]\n",
    "\n",
    "#print(train_tfidf.shape, valid_tfidf.shape, test_tfidf.shape)\n",
    "\n",
    "# LSI\n",
    "train_lsi = [model_lsi[bs] for bs in train_tfidf]\n",
    "valid_lsi = [model_lsi[bs] for bs in valid_tfidf]\n",
    "test_lsi = [model_lsi[bs] for bs in test_tfidf]\n",
    "#print(train_lsi.shape, valid_.shape, test_tfidf.shape)\n",
    "\n",
    "# LDA\n",
    "train_lda = [model_lda[bs] for bs in train_tfidf]\n",
    "valid_lda = [model_lda[bs] for bs in valid_tfidf]\n",
    "test_lda = [model_lda[bs] for bs in test_tfidf]"
   ]
  },
  {
   "cell_type": "code",
   "execution_count": 214,
   "metadata": {},
   "outputs": [],
   "source": [
    "# 密ベクトルに変換する\n",
    "def convert_densetfidf(dictionary:gensim.corpora.dictionary.Dictionary, bow_sparse:list):\n",
    "    bow_dense = np.zeros([len(bow_sparse),len(dictionary)]) \n",
    "    for i,tokens in enumerate(bow_sparse):\n",
    "        for token in tokens:\n",
    "            bow_dense[i,token[0]] = token[1]    \n",
    "    return bow_dense\n",
    "\n",
    "def convert_denselda(ndim, bow_sparse:list):\n",
    "    bow_dense = np.zeros([len(bow_sparse),ndim]) \n",
    "    for i,tokens in enumerate(bow_sparse):\n",
    "        for token in tokens:\n",
    "            bow_dense[i,token[0]] = token[1]    \n",
    "    return bow_dense\n",
    "    \n",
    "# Tfidf\n",
    "train_dtfidf = convert_densetfidf(dictionary, train_tfidf)\n",
    "valid_dtfidf = convert_densetfidf(dictionary, valid_tfidf)\n",
    "test_dtfidf = convert_densetfidf(dictionary, test_tfidf)\n",
    "\n",
    "# LSI\n",
    "train_dlsi = convert_denselda(100,train_lsi)\n",
    "valid_dlsi = convert_denselda(100,valid_lsi)\n",
    "test_dlsi = convert_denselda(100,test_lsi)\n",
    "\n",
    "# LDA\n",
    "train_dlda = convert_denselda(50, train_lda)\n",
    "valid_dlda = convert_denselda(50, valid_lda)\n",
    "test_dlda = convert_denselda(50, test_lda)"
   ]
  },
  {
   "cell_type": "markdown",
   "metadata": {},
   "source": [
    "## 52.学習"
   ]
  },
  {
   "cell_type": "markdown",
   "metadata": {},
   "source": [
    "51で構築した学習データを用いて，ロジスティック回帰モデルを学習せよ．"
   ]
  },
  {
   "cell_type": "code",
   "execution_count": 242,
   "metadata": {},
   "outputs": [
    {
     "data": {
      "text/plain": [
       "LogisticRegression(C=1.0, class_weight=None, dual=False, fit_intercept=True,\n",
       "                   intercept_scaling=1, l1_ratio=None, max_iter=200,\n",
       "                   multi_class='auto', n_jobs=None, penalty='l2',\n",
       "                   random_state=None, solver='lbfgs', tol=0.0001, verbose=0,\n",
       "                   warm_start=False)"
      ]
     },
     "execution_count": 242,
     "metadata": {},
     "output_type": "execute_result"
    }
   ],
   "source": [
    "from sklearn.linear_model import LogisticRegression\n",
    "from sklearn.preprocessing import LabelEncoder\n",
    "# BoW\n",
    "train_x = train_dbow\n",
    "#LabelEncoderのインスタンスを生成\n",
    "le = LabelEncoder()\n",
    "#ラベルを覚えさせる\n",
    "le.fit(train['CATEGORY'])\n",
    "#ラベルを整数に変換\n",
    "train_y = le.transform(train['CATEGORY'])\n",
    "\n",
    "lr = LogisticRegression(max_iter=200)\n",
    "lr.fit(train_x, train_y)"
   ]
  },
  {
   "cell_type": "markdown",
   "metadata": {},
   "source": [
    "## 53.予測"
   ]
  },
  {
   "cell_type": "markdown",
   "metadata": {},
   "source": [
    "52で学習したロジスティック回帰モデルを用い，与えられた記事見出しからカテゴリとその予測確率を計算するプログラムを実装せよ．"
   ]
  },
  {
   "cell_type": "code",
   "execution_count": 240,
   "metadata": {},
   "outputs": [
    {
     "name": "stdout",
     "output_type": "stream",
     "text": [
      "(1, 3608)\n",
      "['e']\n",
      "[[1.73421074e-03 9.96363834e-01 6.95523188e-04 1.20643225e-03]]\n"
     ]
    }
   ],
   "source": [
    "from sklearn.metrics import confusion_matrix\n",
    "\n",
    "sample_x = valid_dbow[0]\n",
    "sample_x = sample_x.reshape(1,-1)\n",
    "print(\"カテゴリ:\", le.classes_[lr.predict(sample_x)])\n",
    "print(\"予測確率:\", lr.predict_proba(sample_x))"
   ]
  },
  {
   "cell_type": "markdown",
   "metadata": {},
   "source": [
    "## 54.正解率の計測"
   ]
  },
  {
   "cell_type": "markdown",
   "metadata": {},
   "source": [
    "52で学習したロジスティック回帰モデルの正解率を，学習データおよび評価データ上で計測せよ．"
   ]
  },
  {
   "cell_type": "code",
   "execution_count": 293,
   "metadata": {},
   "outputs": [
    {
     "name": "stdout",
     "output_type": "stream",
     "text": [
      "Accuracy_Train: 0.976787719955073\n",
      "Accuracy_Test: 0.8989520958083832\n"
     ]
    }
   ],
   "source": [
    "# 参考：https://note.nkmk.me/python-sklearn-confusion-matrix-score/\n",
    "from sklearn.metrics import accuracy_score\n",
    "\n",
    "# 学習\n",
    "pred_y_train = lr.predict(train_x)\n",
    "accuracy = accuracy_score(train_y, pred_y_train)\n",
    "print(\"Accuracy_Train:\",accuracy)\n",
    "\n",
    "# 評価\n",
    "test_x = test_dbow\n",
    "test_y = le.transform(test['CATEGORY'])\n",
    "pred_y = lr.predict(test_x)\n",
    "\n",
    "accuracy = accuracy_score(test_y, pred_y)\n",
    "print(\"Accuracy_Test:\",accuracy)"
   ]
  },
  {
   "cell_type": "markdown",
   "metadata": {},
   "source": [
    "## 55.混同行列の作成"
   ]
  },
  {
   "cell_type": "markdown",
   "metadata": {},
   "source": [
    "52で学習したロジスティック回帰モデルの混同行列（confusion matrix）を，学習データおよび評価データ上で作成せよ．"
   ]
  },
  {
   "cell_type": "code",
   "execution_count": 252,
   "metadata": {},
   "outputs": [
    {
     "name": "stdout",
     "output_type": "stream",
     "text": [
      "Confusion Matrix_train:\n",
      "[[4450   27    3   28]\n",
      " [  21 4196    0    4]\n",
      " [  24   27  675    3]\n",
      " [  75   34    2 1115]]\n",
      "Confusion Matrix_test:\n",
      "[[539  11   2   9]\n",
      " [ 21 497   5   9]\n",
      " [ 13  13  56   7]\n",
      " [ 25  14   6 109]]\n"
     ]
    }
   ],
   "source": [
    "from sklearn.metrics import confusion_matrix\n",
    "# import seaborn as sns\n",
    "\n",
    "# 学習\n",
    "cm = confusion_matrix(train_y, pred_y_train)\n",
    "print(\"Confusion Matrix_train:\")\n",
    "print(cm)\n",
    "#sns.heatmap(cm, annot=True, cmap='Blues')\n",
    "\n",
    "# 評価\n",
    "cm = confusion_matrix(test_y, pred_y)\n",
    "#sns.heatmap(cm, annot=True, cmap='Blues')\n",
    "print(\"Confusion Matrix_test:\")\n",
    "print(cm)"
   ]
  },
  {
   "cell_type": "markdown",
   "metadata": {},
   "source": [
    "## 56.適合率，再現率，F1スコアの計測"
   ]
  },
  {
   "cell_type": "markdown",
   "metadata": {},
   "source": [
    "52で学習したロジスティック回帰モデルの適合率，再現率，F1スコアを，評価データ上で計測せよ．カテゴリごとに適合率，再現率，F1スコアを求め，カテゴリごとの性能をマイクロ平均（micro-average）とマクロ平均（macro-average）で統合せよ．"
   ]
  },
  {
   "cell_type": "code",
   "execution_count": 261,
   "metadata": {},
   "outputs": [
    {
     "name": "stdout",
     "output_type": "stream",
     "text": [
      "Precision: [0.90133779 0.92897196 0.8115942  0.81343284]\n",
      "Macro: 0.8638341984946023\n",
      "Micro: 0.8989520958083832\n",
      "Recall: [0.96078431 0.93421053 0.62921348 0.70779221]\n",
      "Macro: 0.8080001327448887\n",
      "Micro: 0.8989520958083832\n",
      "F1: [0.93011217 0.93158388 0.70886076 0.75694444]\n",
      "Macro: 0.8318753124089138\n",
      "Micro: 0.8989520958083832\n"
     ]
    }
   ],
   "source": [
    "from sklearn.metrics import precision_score, recall_score, f1_score\n",
    "precision = precision_score(test_y, pred_y, average=None)\n",
    "precision_macro = precision_score(test_y, pred_y, average='macro')\n",
    "precision_micro = precision_score(test_y, pred_y, average='micro')\n",
    "print(\"Precision:\",precision)\n",
    "print(\"Macro:\",precision_macro)\n",
    "print(\"Micro:\",precision_micro)\n",
    "\n",
    "recall = recall_score(test_y, pred_y, average=None)\n",
    "recall_macro = recall_score(test_y, pred_y, average='macro')\n",
    "recall_micro = recall_score(test_y, pred_y, average='micro')\n",
    "print(\"Recall:\",recall)\n",
    "print(\"Macro:\",recall_macro)\n",
    "print(\"Micro:\",recall_micro)\n",
    "\n",
    "f1 = f1_score(test_y, pred_y, average=None)\n",
    "f1_macro = f1_score(test_y, pred_y, average='macro')\n",
    "f1_micro = f1_score(test_y, pred_y, average='micro')\n",
    "print(\"F1:\",f1)\n",
    "print(\"Macro:\",f1_macro)\n",
    "print(\"Micro:\",f1_micro)"
   ]
  },
  {
   "cell_type": "markdown",
   "metadata": {},
   "source": [
    "## 57.特徴量の重みの確認"
   ]
  },
  {
   "cell_type": "markdown",
   "metadata": {},
   "source": [
    "52で学習したロジスティック回帰モデルの中で，重みの高い特徴量トップ10と，重みの低い特徴量トップ10を確認せよ．"
   ]
  },
  {
   "cell_type": "code",
   "execution_count": 292,
   "metadata": {},
   "outputs": [
    {
     "name": "stdout",
     "output_type": "stream",
     "text": [
      "クラスbにおける、重要度の低い単語TOP10\n",
      "['disappointed', 'forget', 'soon', 'left', 'losing', 'exist', 'shuts', 'marketsus', 'files', 'california']\n",
      "クラスbにおける、重要度の高い単語TOP10\n",
      "['bank', 'oil', 'obamacare', 'ukraine', 'ecb', 'fed', 'yellen', 'piketty', 'mcdonalds', 'dollar']\n",
      "クラスeにおける、重要度の低い単語TOP10\n",
      "['shines', 'of', 'carry', 'marketsus', 'cancel', 'bars', 'it', 'signal', 'makeup', 'those']\n",
      "クラスeにおける、重要度の高い単語TOP10\n",
      "['chris', 'google', 'transformers', 'kardashian', 'spotify', 'movie', 'wedding', 'miley', 'paul', 'film']\n",
      "クラスmにおける、重要度の低い単語TOP10\n",
      "['when', 'pct', 'whole', 'hill', 'marketsus', 'hunt', 'failure', 'crop', 'friends', 'bond']\n",
      "クラスmにおける、重要度の高い単語TOP10\n",
      "['ebola', 'fda', 'cancer', 'drug', 'mers', 'doctors', 'medical', 'cdc', 'cases', 'ecigarettes']\n",
      "クラスtにおける、重要度の低い単語TOP10\n",
      "['major', 'fever', 'blame', 'awesome', 'show', 'kept', 'marketsus', 'merger', 'wary', 'im']\n",
      "クラスtにおける、重要度の高い単語TOP10\n",
      "['climate', 'facebook', 'google', 'microsoft', 'heartbleed', 'apple', 'fcc', 'apples', 'googles', 'nasa']\n"
     ]
    }
   ],
   "source": [
    "# 各クラスを識別するモデルにおいて、重みの高い特徴量トップ10と重みの低い特徴量トップ10を抽出する\n",
    "coefs = lr.coef_\n",
    "for i,c in enumerate(coefs):\n",
    "    print(\"クラス\" + le.classes_[i] + \"における、重要度の低い単語TOP10\")\n",
    "    idx_min = np.argsort(np.abs(c))[0:10]\n",
    "    #print(idx_min)\n",
    "    importance_low = [dictionary.id2token[idx] for idx in idx_min]\n",
    "    print(importance_low)\n",
    "    \n",
    "    print(\"クラス\"+ le.classes_[i] + \"における、重要度の高い単語TOP10\")\n",
    "    idx_max = np.argsort(-np.abs(c))[0:10]\n",
    "    #print(idx_max)\n",
    "    importance_high = [dictionary.id2token[idx] for idx in idx_max]\n",
    "    print(importance_high)"
   ]
  },
  {
   "cell_type": "markdown",
   "metadata": {},
   "source": [
    "## 58.正則化パラメータの変更"
   ]
  },
  {
   "cell_type": "markdown",
   "metadata": {},
   "source": [
    "ロジスティック回帰モデルを学習するとき，正則化パラメータを調整することで，学習時の過学習（overfitting）の度合いを制御できる．異なる正則化パラメータでロジスティック回帰モデルを学習し，学習データ，検証データ，および評価データ上の正解率を求めよ．実験の結果は，正則化パラメータを横軸，正解率を縦軸としたグラフにまとめよ．"
   ]
  },
  {
   "cell_type": "code",
   "execution_count": 296,
   "metadata": {},
   "outputs": [
    {
     "name": "stdout",
     "output_type": "stream",
     "text": [
      "Accuracy_Test: 0.6901197604790419\n",
      "Accuracy_Test: 0.7709580838323353\n",
      "Accuracy_Test: 0.8585329341317365\n",
      "Accuracy_Test: 0.8989520958083832\n",
      "Accuracy_Test: 0.8877245508982036\n",
      "Accuracy_Test: 0.8839820359281437\n",
      "Accuracy_Test: 0.8727544910179641\n"
     ]
    },
    {
     "data": {
      "image/png": "[encoded data removed]",
      "text/plain": [
       "<Figure size 864x576 with 1 Axes>"
      ]
     },
     "metadata": {
      "needs_background": "light"
     },
     "output_type": "display_data"
    }
   ],
   "source": [
    "import matplotlib.pyplot as plt\n",
    "\n",
    "Cs = [0.001, 0.01, 0.1, 1, 10, 20, 50]\n",
    "Accs = []\n",
    "\n",
    "for c in Cs:\n",
    "    lr = LogisticRegression(penalty='l2', max_iter=500, C=c)\n",
    "    lr.fit(train_x, train_y)\n",
    "    \n",
    "    pred_y = lr.predict(test_x)\n",
    "    accuracy = accuracy_score(test_y, pred_y)\n",
    "    Accs.append(accuracy)\n",
    "    print(\"Accuracy_Test:\",accuracy)\n",
    "\n",
    "# Figureの初期化    \n",
    "fig = plt.figure(figsize=(12, 8))\n",
    "\n",
    "# Figure内にAxesを追加()\n",
    "ax = fig.add_subplot(111)\n",
    "ax.plot(Cs, Accs)\n",
    "\n",
    "ax.set_xlabel(\"C\")\n",
    "ax.set_ylabel(\"Accuracy\")\n",
    "\n",
    "plt.show()"
   ]
  },
  {
   "cell_type": "markdown",
   "metadata": {},
   "source": [
    "## 59.ハイパーパラメータの探索"
   ]
  },
  {
   "cell_type": "markdown",
   "metadata": {},
   "source": [
    "学習アルゴリズムや学習パラメータを変えながら，カテゴリ分類モデルを学習せよ．検証データ上の正解率が最も高くなる学習アルゴリズム・パラメータを求めよ．また，その学習アルゴリズム・パラメータを用いたときの評価データ上の正解率を求めよ．"
   ]
  },
  {
   "cell_type": "code",
   "execution_count": 303,
   "metadata": {},
   "outputs": [
    {
     "name": "stderr",
     "output_type": "stream",
     "text": [
      "[I 2020-09-23 01:51:08,960] A new study created in memory with name: no-name-7eeea18f-3531-4bfa-b630-349b4940e113\n",
      "[I 2020-09-23 01:51:24,922] Trial 0 finished with value: 0.8902101829650272 and parameters: {'penalty': 'l2', 'C': 2.2, 'class_weight': None, 'l1_ratio': 0.8}. Best is trial 0 with value: 0.8902101829650272.\n",
      "[I 2020-09-23 01:51:42,420] Trial 1 finished with value: 0.8852492925233503 and parameters: {'penalty': 'l2', 'C': 3.0, 'class_weight': 'balanced', 'l1_ratio': 0.6}. Best is trial 0 with value: 0.8902101829650272.\n",
      "[W 2020-09-23 01:51:42,789] Trial 2 failed, because the objective function returned nan.\n",
      "[I 2020-09-23 01:52:01,140] Trial 3 finished with value: 0.8889932437642115 and parameters: {'penalty': 'l2', 'C': 3.2, 'class_weight': None, 'l1_ratio': 0.6}. Best is trial 0 with value: 0.8902101829650272.\n",
      "[W 2020-09-23 01:52:01,538] Trial 4 failed, because the objective function returned nan.\n",
      "[W 2020-09-23 01:52:01,965] Trial 5 failed, because the objective function returned nan.\n",
      "[W 2020-09-23 01:52:02,353] Trial 6 failed, because the objective function returned nan.\n",
      "[W 2020-09-23 01:52:02,755] Trial 7 failed, because the objective function returned nan.\n",
      "[W 2020-09-23 01:52:03,130] Trial 8 failed, because the objective function returned nan.\n",
      "[W 2020-09-23 01:52:03,529] Trial 9 failed, because the objective function returned nan.\n",
      "[W 2020-09-23 01:52:03,938] Trial 10 failed, because the objective function returned nan.\n",
      "[W 2020-09-23 01:52:04,345] Trial 11 failed, because the objective function returned nan.\n",
      "[I 2020-09-23 01:52:13,529] Trial 12 finished with value: 0.8752340100921755 and parameters: {'penalty': 'l2', 'C': 0.2, 'class_weight': 'balanced', 'l1_ratio': 0.4}. Best is trial 0 with value: 0.8902101829650272.\n",
      "[I 2020-09-23 01:52:30,437] Trial 13 finished with value: 0.8893676441441464 and parameters: {'penalty': 'l2', 'C': 3.1, 'class_weight': None, 'l1_ratio': 0.9}. Best is trial 0 with value: 0.8902101829650272.\n",
      "[I 2020-09-23 01:52:39,304] Trial 14 finished with value: 0.8794458369815493 and parameters: {'penalty': 'l2', 'C': 0.30000000000000004, 'class_weight': None, 'l1_ratio': 0.8}. Best is trial 0 with value: 0.8902101829650272.\n",
      "[I 2020-09-23 01:52:58,875] Trial 15 finished with value: 0.8840326161149682 and parameters: {'penalty': 'l2', 'C': 3.9000000000000004, 'class_weight': 'balanced', 'l1_ratio': 0.30000000000000004}. Best is trial 0 with value: 0.8902101829650272.\n",
      "[W 2020-09-23 01:52:59,242] Trial 16 failed, because the objective function returned nan.\n",
      "[W 2020-09-23 01:52:59,609] Trial 17 failed, because the objective function returned nan.\n",
      "[W 2020-09-23 01:52:59,993] Trial 18 failed, because the objective function returned nan.\n",
      "[I 2020-09-23 01:53:16,297] Trial 19 finished with value: 0.8898355986303889 and parameters: {'penalty': 'l2', 'C': 2.8000000000000003, 'class_weight': None, 'l1_ratio': 0.6}. Best is trial 0 with value: 0.8902101829650272.\n",
      "[W 2020-09-23 01:53:16,671] Trial 20 failed, because the objective function returned nan.\n",
      "[I 2020-09-23 01:53:33,744] Trial 21 finished with value: 0.8889932963226981 and parameters: {'penalty': 'l2', 'C': 3.4000000000000004, 'class_weight': None, 'l1_ratio': 0.1}. Best is trial 0 with value: 0.8902101829650272.\n",
      "[W 2020-09-23 01:53:34,113] Trial 22 failed, because the objective function returned nan.\n",
      "[W 2020-09-23 01:53:34,498] Trial 23 failed, because the objective function returned nan.\n",
      "[W 2020-09-23 01:53:34,855] Trial 24 failed, because the objective function returned nan.\n",
      "[W 2020-09-23 01:53:35,219] Trial 25 failed, because the objective function returned nan.\n",
      "[I 2020-09-23 01:53:53,580] Trial 26 finished with value: 0.887402061858921 and parameters: {'penalty': 'l2', 'C': 4.7, 'class_weight': None, 'l1_ratio': 0.6}. Best is trial 0 with value: 0.8902101829650272.\n",
      "[W 2020-09-23 01:53:53,946] Trial 27 failed, because the objective function returned nan.\n",
      "[W 2020-09-23 01:53:54,310] Trial 28 failed, because the objective function returned nan.\n",
      "[W 2020-09-23 01:53:54,709] Trial 29 failed, because the objective function returned nan.\n",
      "[W 2020-09-23 01:53:55,093] Trial 30 failed, because the objective function returned nan.\n",
      "[W 2020-09-23 01:53:55,479] Trial 31 failed, because the objective function returned nan.\n",
      "[W 2020-09-23 01:53:55,861] Trial 32 failed, because the objective function returned nan.\n",
      "[W 2020-09-23 01:53:56,252] Trial 33 failed, because the objective function returned nan.\n",
      "[W 2020-09-23 01:53:56,609] Trial 34 failed, because the objective function returned nan.\n",
      "[W 2020-09-23 01:53:56,988] Trial 35 failed, because the objective function returned nan.\n",
      "[W 2020-09-23 01:53:57,346] Trial 36 failed, because the objective function returned nan.\n",
      "[W 2020-09-23 01:53:57,706] Trial 37 failed, because the objective function returned nan.\n",
      "[W 2020-09-23 01:53:58,081] Trial 38 failed, because the objective function returned nan.\n",
      "[W 2020-09-23 01:53:58,451] Trial 39 failed, because the objective function returned nan.\n",
      "[W 2020-09-23 01:53:58,818] Trial 40 failed, because the objective function returned nan.\n",
      "[W 2020-09-23 01:53:59,177] Trial 41 failed, because the objective function returned nan.\n",
      "[W 2020-09-23 01:53:59,553] Trial 42 failed, because the objective function returned nan.\n",
      "[W 2020-09-23 01:53:59,912] Trial 43 failed, because the objective function returned nan.\n",
      "[W 2020-09-23 01:54:00,273] Trial 44 failed, because the objective function returned nan.\n",
      "[W 2020-09-23 01:54:00,636] Trial 45 failed, because the objective function returned nan.\n",
      "[W 2020-09-23 01:54:00,996] Trial 46 failed, because the objective function returned nan.\n",
      "[W 2020-09-23 01:54:01,355] Trial 47 failed, because the objective function returned nan.\n",
      "[W 2020-09-23 01:54:01,718] Trial 48 failed, because the objective function returned nan.\n",
      "[W 2020-09-23 01:54:02,079] Trial 49 failed, because the objective function returned nan.\n",
      "[W 2020-09-23 01:54:02,435] Trial 50 failed, because the objective function returned nan.\n",
      "[W 2020-09-23 01:54:02,805] Trial 51 failed, because the objective function returned nan.\n",
      "[W 2020-09-23 01:54:03,160] Trial 52 failed, because the objective function returned nan.\n",
      "[W 2020-09-23 01:54:03,515] Trial 53 failed, because the objective function returned nan.\n",
      "[W 2020-09-23 01:54:03,871] Trial 54 failed, because the objective function returned nan.\n",
      "[W 2020-09-23 01:54:04,226] Trial 55 failed, because the objective function returned nan.\n",
      "[W 2020-09-23 01:54:04,581] Trial 56 failed, because the objective function returned nan.\n",
      "[W 2020-09-23 01:54:04,952] Trial 57 failed, because the objective function returned nan.\n",
      "[W 2020-09-23 01:54:05,314] Trial 58 failed, because the objective function returned nan.\n",
      "[W 2020-09-23 01:54:05,680] Trial 59 failed, because the objective function returned nan.\n",
      "[W 2020-09-23 01:54:06,044] Trial 60 failed, because the objective function returned nan.\n",
      "[W 2020-09-23 01:54:06,422] Trial 61 failed, because the objective function returned nan.\n",
      "[W 2020-09-23 01:54:06,777] Trial 62 failed, because the objective function returned nan.\n",
      "[W 2020-09-23 01:54:07,140] Trial 63 failed, because the objective function returned nan.\n",
      "[W 2020-09-23 01:54:07,504] Trial 64 failed, because the objective function returned nan.\n",
      "[W 2020-09-23 01:54:07,863] Trial 65 failed, because the objective function returned nan.\n",
      "[W 2020-09-23 01:54:08,222] Trial 66 failed, because the objective function returned nan.\n",
      "[W 2020-09-23 01:54:08,584] Trial 67 failed, because the objective function returned nan.\n",
      "[W 2020-09-23 01:54:08,947] Trial 68 failed, because the objective function returned nan.\n",
      "[W 2020-09-23 01:54:09,309] Trial 69 failed, because the objective function returned nan.\n",
      "[W 2020-09-23 01:54:09,674] Trial 70 failed, because the objective function returned nan.\n",
      "[W 2020-09-23 01:54:10,038] Trial 71 failed, because the objective function returned nan.\n",
      "[W 2020-09-23 01:54:10,405] Trial 72 failed, because the objective function returned nan.\n",
      "[W 2020-09-23 01:54:10,766] Trial 73 failed, because the objective function returned nan.\n",
      "[W 2020-09-23 01:54:11,129] Trial 74 failed, because the objective function returned nan.\n",
      "[W 2020-09-23 01:54:11,497] Trial 75 failed, because the objective function returned nan.\n",
      "[W 2020-09-23 01:54:11,860] Trial 76 failed, because the objective function returned nan.\n",
      "[W 2020-09-23 01:54:12,216] Trial 77 failed, because the objective function returned nan.\n",
      "[W 2020-09-23 01:54:12,584] Trial 78 failed, because the objective function returned nan.\n",
      "[W 2020-09-23 01:54:12,938] Trial 79 failed, because the objective function returned nan.\n",
      "[W 2020-09-23 01:54:13,326] Trial 80 failed, because the objective function returned nan.\n",
      "[W 2020-09-23 01:54:13,722] Trial 81 failed, because the objective function returned nan.\n",
      "[W 2020-09-23 01:54:14,098] Trial 82 failed, because the objective function returned nan.\n",
      "[W 2020-09-23 01:54:14,490] Trial 83 failed, because the objective function returned nan.\n",
      "[W 2020-09-23 01:54:14,881] Trial 84 failed, because the objective function returned nan.\n",
      "[W 2020-09-23 01:54:15,260] Trial 85 failed, because the objective function returned nan.\n",
      "[W 2020-09-23 01:54:15,646] Trial 86 failed, because the objective function returned nan.\n",
      "[W 2020-09-23 01:54:16,031] Trial 87 failed, because the objective function returned nan.\n",
      "[W 2020-09-23 01:54:16,426] Trial 88 failed, because the objective function returned nan.\n",
      "[W 2020-09-23 01:54:16,819] Trial 89 failed, because the objective function returned nan.\n",
      "[W 2020-09-23 01:54:17,196] Trial 90 failed, because the objective function returned nan.\n",
      "[W 2020-09-23 01:54:17,578] Trial 91 failed, because the objective function returned nan.\n",
      "[W 2020-09-23 01:54:17,976] Trial 92 failed, because the objective function returned nan.\n",
      "[W 2020-09-23 01:54:18,365] Trial 93 failed, because the objective function returned nan.\n",
      "[W 2020-09-23 01:54:18,741] Trial 94 failed, because the objective function returned nan.\n",
      "[W 2020-09-23 01:54:19,132] Trial 95 failed, because the objective function returned nan.\n",
      "[W 2020-09-23 01:54:19,520] Trial 96 failed, because the objective function returned nan.\n",
      "[W 2020-09-23 01:54:19,907] Trial 97 failed, because the objective function returned nan.\n",
      "[W 2020-09-23 01:54:20,293] Trial 98 failed, because the objective function returned nan.\n",
      "[W 2020-09-23 01:54:20,685] Trial 99 failed, because the objective function returned nan.\n"
     ]
    },
    {
     "name": "stdout",
     "output_type": "stream",
     "text": [
      "Accuracy: 0.8902101829650272\n",
      "Best hyperparameters: {'penalty': 'l2', 'C': 2.2, 'class_weight': None, 'l1_ratio': 0.8}\n"
     ]
    }
   ],
   "source": [
    "# ベイズ最適化によるハイパーパラメータ探索\n",
    "# https://note.com/npaka/n/n88d2ccc7efcb\n",
    "from sklearn.model_selection import cross_val_score\n",
    "import optuna\n",
    "\n",
    "def objective(trial):    \n",
    "    penalties = trial.suggest_categorical('penalty', ['l1','l2','elasticnet'])\n",
    "    Cs = trial.suggest_discrete_uniform('C',0.0,5.0,0.1)\n",
    "    class_weights = trial.suggest_categorical('class_weight', [None, 'balanced'])\n",
    "    l1_ratios = trial.suggest_discrete_uniform('l1_ratio',0.1,0.9,0.1)\n",
    "    \n",
    "    lr = LogisticRegression(max_iter=200,\n",
    "                            penalty=penalties,\n",
    "                            C=Cs,\n",
    "                            class_weight=class_weights,\n",
    "                            l1_ratio=l1_ratios\n",
    "                           )\n",
    "    return cross_val_score(lr, train_x, train_y, n_jobs=-1, cv=3).mean()\n",
    "\n",
    "study = optuna.create_study(direction='maximize')\n",
    "study.optimize(objective, n_trials=100)\n",
    "\n",
    "trial = study.best_trial\n",
    "\n",
    "print('Accuracy: {}'.format(trial.value))\n",
    "print('Best hyperparameters: {}'.format(trial.params))"
   ]
  }
 ],
 "metadata": {
  "kernelspec": {
   "display_name": "Python 3",
   "language": "python",
   "name": "python3"
  },
  "language_info": {
   "codemirror_mode": {
    "name": "ipython",
    "version": 3
   },
   "file_extension": ".py",
   "mimetype": "text/x-python",
   "name": "python",
   "nbconvert_exporter": "python",
   "pygments_lexer": "ipython3",
   "version": "3.7.6"
  }
 },
 "nbformat": 4,
 "nbformat_minor": 4
}
